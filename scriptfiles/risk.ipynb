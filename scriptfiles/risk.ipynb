{
 "cells": [
  {
   "cell_type": "code",
   "execution_count": 1,
   "metadata": {},
   "outputs": [],
   "source": [
    "import pandas as pd\n",
    "import numpy as np\n",
    "from sklearn.model_selection import train_test_split, GridSearchCV\n",
    "from sklearn.preprocessing import OneHotEncoder, LabelEncoder, MinMaxScaler\n",
    "from sklearn.impute import SimpleImputer\n",
    "from sklearn.pipeline import Pipeline\n",
    "from sklearn.ensemble import RandomForestClassifier, IsolationForest\n",
    "from sklearn.neural_network import MLPClassifier\n",
    "from sklearn.metrics import accuracy_score, classification_report, mean_absolute_error, mean_squared_error, roc_auc_score\n",
    "import joblib\n",
    "import math\n",
    "import torch\n",
    "import torch.nn as nn\n",
    "import torch.optim as optim"
   ]
  },
  {
   "cell_type": "code",
   "execution_count": 3,
   "metadata": {},
   "outputs": [],
   "source": [
    "df=pd.read_csv(\"D:/Insurance_AI_project/datasets/insurance_claims_dataset.csv\")"
   ]
  },
  {
   "cell_type": "code",
   "execution_count": 4,
   "metadata": {},
   "outputs": [
    {
     "data": {
      "text/html": [
       "<div>\n",
       "<style scoped>\n",
       "    .dataframe tbody tr th:only-of-type {\n",
       "        vertical-align: middle;\n",
       "    }\n",
       "\n",
       "    .dataframe tbody tr th {\n",
       "        vertical-align: top;\n",
       "    }\n",
       "\n",
       "    .dataframe thead th {\n",
       "        text-align: right;\n",
       "    }\n",
       "</style>\n",
       "<table border=\"1\" class=\"dataframe\">\n",
       "  <thead>\n",
       "    <tr style=\"text-align: right;\">\n",
       "      <th></th>\n",
       "      <th>Policy_ID</th>\n",
       "      <th>Customer_Age</th>\n",
       "      <th>Gender</th>\n",
       "      <th>Policy_Type</th>\n",
       "      <th>Annual_Income</th>\n",
       "      <th>Claim_History</th>\n",
       "      <th>Fraudulent_Claim</th>\n",
       "      <th>Premium_Amount</th>\n",
       "      <th>Claim_Amount</th>\n",
       "    </tr>\n",
       "  </thead>\n",
       "  <tbody>\n",
       "    <tr>\n",
       "      <th>0</th>\n",
       "      <td>POL000001</td>\n",
       "      <td>56</td>\n",
       "      <td>Female</td>\n",
       "      <td>Life</td>\n",
       "      <td>95476.49</td>\n",
       "      <td>5</td>\n",
       "      <td>0</td>\n",
       "      <td>834.08</td>\n",
       "      <td>46875.18</td>\n",
       "    </tr>\n",
       "    <tr>\n",
       "      <th>1</th>\n",
       "      <td>POL000002</td>\n",
       "      <td>69</td>\n",
       "      <td>Other</td>\n",
       "      <td>Property</td>\n",
       "      <td>102194.36</td>\n",
       "      <td>0</td>\n",
       "      <td>0</td>\n",
       "      <td>1518.58</td>\n",
       "      <td>30204.26</td>\n",
       "    </tr>\n",
       "    <tr>\n",
       "      <th>2</th>\n",
       "      <td>POL000003</td>\n",
       "      <td>46</td>\n",
       "      <td>Female</td>\n",
       "      <td>Life</td>\n",
       "      <td>21702.28</td>\n",
       "      <td>6</td>\n",
       "      <td>0</td>\n",
       "      <td>3786.11</td>\n",
       "      <td>23722.70</td>\n",
       "    </tr>\n",
       "    <tr>\n",
       "      <th>3</th>\n",
       "      <td>POL000004</td>\n",
       "      <td>32</td>\n",
       "      <td>Other</td>\n",
       "      <td>Life</td>\n",
       "      <td>106259.86</td>\n",
       "      <td>0</td>\n",
       "      <td>0</td>\n",
       "      <td>3194.64</td>\n",
       "      <td>3079.85</td>\n",
       "    </tr>\n",
       "    <tr>\n",
       "      <th>4</th>\n",
       "      <td>POL000005</td>\n",
       "      <td>60</td>\n",
       "      <td>Other</td>\n",
       "      <td>Auto</td>\n",
       "      <td>43144.68</td>\n",
       "      <td>4</td>\n",
       "      <td>0</td>\n",
       "      <td>790.21</td>\n",
       "      <td>33614.95</td>\n",
       "    </tr>\n",
       "  </tbody>\n",
       "</table>\n",
       "</div>"
      ],
      "text/plain": [
       "   Policy_ID  Customer_Age  Gender Policy_Type  Annual_Income  Claim_History  \\\n",
       "0  POL000001            56  Female        Life       95476.49              5   \n",
       "1  POL000002            69   Other    Property      102194.36              0   \n",
       "2  POL000003            46  Female        Life       21702.28              6   \n",
       "3  POL000004            32   Other        Life      106259.86              0   \n",
       "4  POL000005            60   Other        Auto       43144.68              4   \n",
       "\n",
       "   Fraudulent_Claim  Premium_Amount  Claim_Amount  \n",
       "0                 0          834.08      46875.18  \n",
       "1                 0         1518.58      30204.26  \n",
       "2                 0         3786.11      23722.70  \n",
       "3                 0         3194.64       3079.85  \n",
       "4                 0          790.21      33614.95  "
      ]
     },
     "execution_count": 4,
     "metadata": {},
     "output_type": "execute_result"
    }
   ],
   "source": [
    "df.head()"
   ]
  },
  {
   "cell_type": "code",
   "execution_count": 5,
   "metadata": {},
   "outputs": [
    {
     "name": "stdout",
     "output_type": "stream",
     "text": [
      "<class 'pandas.core.frame.DataFrame'>\n",
      "RangeIndex: 500 entries, 0 to 499\n",
      "Data columns (total 9 columns):\n",
      " #   Column            Non-Null Count  Dtype  \n",
      "---  ------            --------------  -----  \n",
      " 0   Policy_ID         500 non-null    object \n",
      " 1   Customer_Age      500 non-null    int64  \n",
      " 2   Gender            500 non-null    object \n",
      " 3   Policy_Type       500 non-null    object \n",
      " 4   Annual_Income     500 non-null    float64\n",
      " 5   Claim_History     500 non-null    int64  \n",
      " 6   Fraudulent_Claim  500 non-null    int64  \n",
      " 7   Premium_Amount    500 non-null    float64\n",
      " 8   Claim_Amount      500 non-null    float64\n",
      "dtypes: float64(3), int64(3), object(3)\n",
      "memory usage: 35.3+ KB\n"
     ]
    }
   ],
   "source": [
    "df.info()"
   ]
  },
  {
   "cell_type": "code",
   "execution_count": 6,
   "metadata": {},
   "outputs": [
    {
     "data": {
      "text/html": [
       "<div>\n",
       "<style scoped>\n",
       "    .dataframe tbody tr th:only-of-type {\n",
       "        vertical-align: middle;\n",
       "    }\n",
       "\n",
       "    .dataframe tbody tr th {\n",
       "        vertical-align: top;\n",
       "    }\n",
       "\n",
       "    .dataframe thead th {\n",
       "        text-align: right;\n",
       "    }\n",
       "</style>\n",
       "<table border=\"1\" class=\"dataframe\">\n",
       "  <thead>\n",
       "    <tr style=\"text-align: right;\">\n",
       "      <th></th>\n",
       "      <th>Customer_Age</th>\n",
       "      <th>Annual_Income</th>\n",
       "      <th>Claim_History</th>\n",
       "      <th>Fraudulent_Claim</th>\n",
       "      <th>Premium_Amount</th>\n",
       "      <th>Claim_Amount</th>\n",
       "    </tr>\n",
       "  </thead>\n",
       "  <tbody>\n",
       "    <tr>\n",
       "      <th>count</th>\n",
       "      <td>500.000000</td>\n",
       "      <td>500.000000</td>\n",
       "      <td>500.000000</td>\n",
       "      <td>500.000000</td>\n",
       "      <td>500.000000</td>\n",
       "      <td>500.000000</td>\n",
       "    </tr>\n",
       "    <tr>\n",
       "      <th>mean</th>\n",
       "      <td>49.910000</td>\n",
       "      <td>84716.432920</td>\n",
       "      <td>4.390000</td>\n",
       "      <td>0.136000</td>\n",
       "      <td>2776.391000</td>\n",
       "      <td>25834.187640</td>\n",
       "    </tr>\n",
       "    <tr>\n",
       "      <th>std</th>\n",
       "      <td>18.221909</td>\n",
       "      <td>38698.241877</td>\n",
       "      <td>2.859064</td>\n",
       "      <td>0.343132</td>\n",
       "      <td>1304.709559</td>\n",
       "      <td>14213.463889</td>\n",
       "    </tr>\n",
       "    <tr>\n",
       "      <th>min</th>\n",
       "      <td>18.000000</td>\n",
       "      <td>20830.160000</td>\n",
       "      <td>0.000000</td>\n",
       "      <td>0.000000</td>\n",
       "      <td>509.470000</td>\n",
       "      <td>122.090000</td>\n",
       "    </tr>\n",
       "    <tr>\n",
       "      <th>25%</th>\n",
       "      <td>35.000000</td>\n",
       "      <td>49568.657500</td>\n",
       "      <td>2.000000</td>\n",
       "      <td>0.000000</td>\n",
       "      <td>1650.167500</td>\n",
       "      <td>14063.910000</td>\n",
       "    </tr>\n",
       "    <tr>\n",
       "      <th>50%</th>\n",
       "      <td>50.000000</td>\n",
       "      <td>86310.160000</td>\n",
       "      <td>4.000000</td>\n",
       "      <td>0.000000</td>\n",
       "      <td>2875.560000</td>\n",
       "      <td>25980.650000</td>\n",
       "    </tr>\n",
       "    <tr>\n",
       "      <th>75%</th>\n",
       "      <td>66.000000</td>\n",
       "      <td>118663.945000</td>\n",
       "      <td>7.000000</td>\n",
       "      <td>0.000000</td>\n",
       "      <td>3879.022500</td>\n",
       "      <td>38647.650000</td>\n",
       "    </tr>\n",
       "    <tr>\n",
       "      <th>max</th>\n",
       "      <td>79.000000</td>\n",
       "      <td>149731.430000</td>\n",
       "      <td>9.000000</td>\n",
       "      <td>1.000000</td>\n",
       "      <td>4998.710000</td>\n",
       "      <td>49977.240000</td>\n",
       "    </tr>\n",
       "  </tbody>\n",
       "</table>\n",
       "</div>"
      ],
      "text/plain": [
       "       Customer_Age  Annual_Income  Claim_History  Fraudulent_Claim  \\\n",
       "count    500.000000     500.000000     500.000000        500.000000   \n",
       "mean      49.910000   84716.432920       4.390000          0.136000   \n",
       "std       18.221909   38698.241877       2.859064          0.343132   \n",
       "min       18.000000   20830.160000       0.000000          0.000000   \n",
       "25%       35.000000   49568.657500       2.000000          0.000000   \n",
       "50%       50.000000   86310.160000       4.000000          0.000000   \n",
       "75%       66.000000  118663.945000       7.000000          0.000000   \n",
       "max       79.000000  149731.430000       9.000000          1.000000   \n",
       "\n",
       "       Premium_Amount  Claim_Amount  \n",
       "count      500.000000    500.000000  \n",
       "mean      2776.391000  25834.187640  \n",
       "std       1304.709559  14213.463889  \n",
       "min        509.470000    122.090000  \n",
       "25%       1650.167500  14063.910000  \n",
       "50%       2875.560000  25980.650000  \n",
       "75%       3879.022500  38647.650000  \n",
       "max       4998.710000  49977.240000  "
      ]
     },
     "execution_count": 6,
     "metadata": {},
     "output_type": "execute_result"
    }
   ],
   "source": [
    "df.describe()"
   ]
  },
  {
   "cell_type": "code",
   "execution_count": 4,
   "metadata": {},
   "outputs": [
    {
     "data": {
      "text/plain": [
       "Policy_ID           0\n",
       "Customer_Age        0\n",
       "Gender              0\n",
       "Policy_Type         0\n",
       "Annual_Income       0\n",
       "Claim_History       0\n",
       "Fraudulent_Claim    0\n",
       "Premium_Amount      0\n",
       "Claim_Amount        0\n",
       "dtype: int64"
      ]
     },
     "execution_count": 4,
     "metadata": {},
     "output_type": "execute_result"
    }
   ],
   "source": [
    "# Handle missing values\n",
    "df.isnull().sum()"
   ]
  },
  {
   "cell_type": "code",
   "execution_count": 7,
   "metadata": {},
   "outputs": [
    {
     "data": {
      "image/png": "[encoded data removed]",
      "text/plain": [
       "<Figure size 1200x500 with 1 Axes>"
      ]
     },
     "metadata": {},
     "output_type": "display_data"
    }
   ],
   "source": [
    "# Univariate Analysis\n",
    "import matplotlib.pyplot as plt\n",
    "import seaborn as sns\n",
    "plt.figure(figsize=(12, 5))\n",
    "sns.histplot(df['Customer_Age'], bins=30, kde=True, color='blue')\n",
    "plt.title('Distribution of Customer Age')\n",
    "plt.show()"
   ]
  },
  {
   "cell_type": "code",
   "execution_count": 8,
   "metadata": {},
   "outputs": [
    {
     "data": {
      "image/png": "[encoded data removed]",
      "text/plain": [
       "<Figure size 1200x500 with 1 Axes>"
      ]
     },
     "metadata": {},
     "output_type": "display_data"
    }
   ],
   "source": [
    "plt.figure(figsize=(12, 5))\n",
    "sns.histplot(df['Annual_Income'], bins=30, kde=True, color='green')\n",
    "plt.title('Distribution of Annual Income')\n",
    "plt.show()"
   ]
  },
  {
   "cell_type": "code",
   "execution_count": 10,
   "metadata": {},
   "outputs": [
    {
     "data": {
      "image/png": "[encoded data removed]",
      "text/plain": [
       "<Figure size 1200x600 with 1 Axes>"
      ]
     },
     "metadata": {},
     "output_type": "display_data"
    }
   ],
   "source": [
    "# Boxplots for outliers\n",
    "target_cols = ['Annual_Income', 'Claim_Amount', 'Premium_Amount']\n",
    "plt.figure(figsize=(12, 6))\n",
    "sns.boxplot(data=df[target_cols])\n",
    "plt.title(\"Boxplots of Financial Features\")\n",
    "plt.show()"
   ]
  },
  {
   "cell_type": "code",
   "execution_count": 11,
   "metadata": {},
   "outputs": [
    {
     "name": "stderr",
     "output_type": "stream",
     "text": [
      "C:\\Users\\naveen\\AppData\\Local\\Temp\\ipykernel_12408\\3887177502.py:2: FutureWarning: \n",
      "\n",
      "Passing `palette` without assigning `hue` is deprecated and will be removed in v0.14.0. Assign the `x` variable to `hue` and set `legend=False` for the same effect.\n",
      "\n",
      "  sns.countplot(data=df, x='Policy_Type', palette='muted')\n"
     ]
    },
    {
     "data": {
      "image/png": "[encoded data removed]",
      "text/plain": [
       "<Figure size 1000x500 with 1 Axes>"
      ]
     },
     "metadata": {},
     "output_type": "display_data"
    }
   ],
   "source": [
    "plt.figure(figsize=(10, 5))\n",
    "sns.countplot(data=df, x='Policy_Type', palette='muted')\n",
    "plt.title('Policy Type Distribution')\n",
    "plt.show()"
   ]
  },
  {
   "cell_type": "code",
   "execution_count": 12,
   "metadata": {},
   "outputs": [
    {
     "name": "stderr",
     "output_type": "stream",
     "text": [
      "C:\\Users\\naveen\\AppData\\Local\\Temp\\ipykernel_12408\\1137039950.py:3: FutureWarning: \n",
      "\n",
      "Passing `palette` without assigning `hue` is deprecated and will be removed in v0.14.0. Assign the `x` variable to `hue` and set `legend=False` for the same effect.\n",
      "\n",
      "  sns.boxplot(x='Policy_Type', y='Claim_Amount', data=df, palette='coolwarm')\n"
     ]
    },
    {
     "data": {
      "image/png": "[encoded data removed]",
      "text/plain": [
       "<Figure size 1000x600 with 1 Axes>"
      ]
     },
     "metadata": {},
     "output_type": "display_data"
    }
   ],
   "source": [
    "# Bivariate Analysis\n",
    "plt.figure(figsize=(10, 6))\n",
    "sns.boxplot(x='Policy_Type', y='Claim_Amount', data=df, palette='coolwarm')\n",
    "plt.title('Claim Amount by Policy Type')\n",
    "plt.show()"
   ]
  },
  {
   "cell_type": "code",
   "execution_count": 13,
   "metadata": {},
   "outputs": [
    {
     "name": "stderr",
     "output_type": "stream",
     "text": [
      "C:\\Users\\naveen\\AppData\\Local\\Temp\\ipykernel_12408\\3254317703.py:2: FutureWarning: \n",
      "\n",
      "Passing `palette` without assigning `hue` is deprecated and will be removed in v0.14.0. Assign the `x` variable to `hue` and set `legend=False` for the same effect.\n",
      "\n",
      "  sns.boxplot(x='Fraudulent_Claim', y='Annual_Income', data=df, palette='coolwarm')\n"
     ]
    },
    {
     "data": {
      "image/png": "[encoded data removed]",
      "text/plain": [
       "<Figure size 1000x600 with 1 Axes>"
      ]
     },
     "metadata": {},
     "output_type": "display_data"
    }
   ],
   "source": [
    "plt.figure(figsize=(10, 6))\n",
    "sns.boxplot(x='Fraudulent_Claim', y='Annual_Income', data=df, palette='coolwarm')\n",
    "plt.title('Annual Income by Fraudulent Claim')\n",
    "plt.show()"
   ]
  },
  {
   "cell_type": "code",
   "execution_count": 6,
   "metadata": {},
   "outputs": [],
   "source": [
    "# Function to assign Risk_Score based on given criteria\n",
    "def assign_risk_score(row):\n",
    "    if row[\"Fraudulent_Claim\"] == 1 or row[\"Claim_History\"] > 5 or row[\"Claim_Amount\"] > 30000:\n",
    "        return \"High\"\n",
    "    elif 3 <= row[\"Claim_History\"] <= 5 or (10000 < row[\"Claim_Amount\"] <= 30000):\n",
    "        return \"Medium\"\n",
    "    else:\n",
    "        return \"Low\"\n",
    "\n",
    "# Apply function to DataFrame\n",
    "df[\"Risk_Score\"] = df.apply(assign_risk_score, axis=1)"
   ]
  },
  {
   "cell_type": "code",
   "execution_count": 7,
   "metadata": {},
   "outputs": [],
   "source": [
    "df=df.drop(\"Policy_ID\", axis=1)"
   ]
  },
  {
   "cell_type": "code",
   "execution_count": 8,
   "metadata": {},
   "outputs": [],
   "source": [
    "# Convert Risk_Score to numeric values first\n",
    "risk_mapping = {\"Low\": 0, \"Medium\": 1, \"High\": 2}\n",
    "df[\"Risk_Score\"] = df[\"Risk_Score\"].map(risk_mapping)\n",
    "\n",
    "# Ensure categorical columns are properly encoded\n",
    "categorical_cols = [\"Policy_Type\", \"Gender\"]\n",
    "df = pd.get_dummies(df, columns=categorical_cols).astype(int)\n",
    "\n"
   ]
  },
  {
   "cell_type": "code",
   "execution_count": 9,
   "metadata": {},
   "outputs": [
    {
     "data": {
      "text/html": [
       "<div>\n",
       "<style scoped>\n",
       "    .dataframe tbody tr th:only-of-type {\n",
       "        vertical-align: middle;\n",
       "    }\n",
       "\n",
       "    .dataframe tbody tr th {\n",
       "        vertical-align: top;\n",
       "    }\n",
       "\n",
       "    .dataframe thead th {\n",
       "        text-align: right;\n",
       "    }\n",
       "</style>\n",
       "<table border=\"1\" class=\"dataframe\">\n",
       "  <thead>\n",
       "    <tr style=\"text-align: right;\">\n",
       "      <th></th>\n",
       "      <th>Customer_Age</th>\n",
       "      <th>Annual_Income</th>\n",
       "      <th>Claim_History</th>\n",
       "      <th>Fraudulent_Claim</th>\n",
       "      <th>Premium_Amount</th>\n",
       "      <th>Claim_Amount</th>\n",
       "      <th>Risk_Score</th>\n",
       "      <th>Policy_Type_Auto</th>\n",
       "      <th>Policy_Type_Health</th>\n",
       "      <th>Policy_Type_Life</th>\n",
       "      <th>Policy_Type_Property</th>\n",
       "      <th>Gender_Female</th>\n",
       "      <th>Gender_Male</th>\n",
       "      <th>Gender_Other</th>\n",
       "    </tr>\n",
       "  </thead>\n",
       "  <tbody>\n",
       "    <tr>\n",
       "      <th>0</th>\n",
       "      <td>56</td>\n",
       "      <td>95476</td>\n",
       "      <td>5</td>\n",
       "      <td>0</td>\n",
       "      <td>834</td>\n",
       "      <td>46875</td>\n",
       "      <td>2</td>\n",
       "      <td>0</td>\n",
       "      <td>0</td>\n",
       "      <td>1</td>\n",
       "      <td>0</td>\n",
       "      <td>1</td>\n",
       "      <td>0</td>\n",
       "      <td>0</td>\n",
       "    </tr>\n",
       "    <tr>\n",
       "      <th>1</th>\n",
       "      <td>69</td>\n",
       "      <td>102194</td>\n",
       "      <td>0</td>\n",
       "      <td>0</td>\n",
       "      <td>1518</td>\n",
       "      <td>30204</td>\n",
       "      <td>2</td>\n",
       "      <td>0</td>\n",
       "      <td>0</td>\n",
       "      <td>0</td>\n",
       "      <td>1</td>\n",
       "      <td>0</td>\n",
       "      <td>0</td>\n",
       "      <td>1</td>\n",
       "    </tr>\n",
       "    <tr>\n",
       "      <th>2</th>\n",
       "      <td>46</td>\n",
       "      <td>21702</td>\n",
       "      <td>6</td>\n",
       "      <td>0</td>\n",
       "      <td>3786</td>\n",
       "      <td>23722</td>\n",
       "      <td>2</td>\n",
       "      <td>0</td>\n",
       "      <td>0</td>\n",
       "      <td>1</td>\n",
       "      <td>0</td>\n",
       "      <td>1</td>\n",
       "      <td>0</td>\n",
       "      <td>0</td>\n",
       "    </tr>\n",
       "    <tr>\n",
       "      <th>3</th>\n",
       "      <td>32</td>\n",
       "      <td>106259</td>\n",
       "      <td>0</td>\n",
       "      <td>0</td>\n",
       "      <td>3194</td>\n",
       "      <td>3079</td>\n",
       "      <td>0</td>\n",
       "      <td>0</td>\n",
       "      <td>0</td>\n",
       "      <td>1</td>\n",
       "      <td>0</td>\n",
       "      <td>0</td>\n",
       "      <td>0</td>\n",
       "      <td>1</td>\n",
       "    </tr>\n",
       "    <tr>\n",
       "      <th>4</th>\n",
       "      <td>60</td>\n",
       "      <td>43144</td>\n",
       "      <td>4</td>\n",
       "      <td>0</td>\n",
       "      <td>790</td>\n",
       "      <td>33614</td>\n",
       "      <td>2</td>\n",
       "      <td>1</td>\n",
       "      <td>0</td>\n",
       "      <td>0</td>\n",
       "      <td>0</td>\n",
       "      <td>0</td>\n",
       "      <td>0</td>\n",
       "      <td>1</td>\n",
       "    </tr>\n",
       "  </tbody>\n",
       "</table>\n",
       "</div>"
      ],
      "text/plain": [
       "   Customer_Age  Annual_Income  Claim_History  Fraudulent_Claim  \\\n",
       "0            56          95476              5                 0   \n",
       "1            69         102194              0                 0   \n",
       "2            46          21702              6                 0   \n",
       "3            32         106259              0                 0   \n",
       "4            60          43144              4                 0   \n",
       "\n",
       "   Premium_Amount  Claim_Amount  Risk_Score  Policy_Type_Auto  \\\n",
       "0             834         46875           2                 0   \n",
       "1            1518         30204           2                 0   \n",
       "2            3786         23722           2                 0   \n",
       "3            3194          3079           0                 0   \n",
       "4             790         33614           2                 1   \n",
       "\n",
       "   Policy_Type_Health  Policy_Type_Life  Policy_Type_Property  Gender_Female  \\\n",
       "0                   0                 1                     0              1   \n",
       "1                   0                 0                     1              0   \n",
       "2                   0                 1                     0              1   \n",
       "3                   0                 1                     0              0   \n",
       "4                   0                 0                     0              0   \n",
       "\n",
       "   Gender_Male  Gender_Other  \n",
       "0            0             0  \n",
       "1            0             1  \n",
       "2            0             0  \n",
       "3            0             1  \n",
       "4            0             1  "
      ]
     },
     "execution_count": 9,
     "metadata": {},
     "output_type": "execute_result"
    }
   ],
   "source": [
    "df.head()"
   ]
  },
  {
   "cell_type": "code",
   "execution_count": 10,
   "metadata": {},
   "outputs": [],
   "source": [
    "import pickle\n",
    "from sklearn.preprocessing import MinMaxScaler\n",
    "\n",
    "scaler_risk = MinMaxScaler()\n",
    "df[[\"Annual_Income\", \"Premium_Amount\", \"Claim_Amount\"]] = scaler_risk.fit_transform(\n",
    "    df[[\"Annual_Income\", \"Premium_Amount\", \"Claim_Amount\"]]\n",
    ")\n",
    "\n",
    "# Save scaler for later use\n",
    "with open(\"D:/final/myenv/Scripts/scaler_risk.pkl\", \"wb\") as f:\n",
    "    pickle.dump(scaler_risk, f)\n"
   ]
  },
  {
   "cell_type": "code",
   "execution_count": 11,
   "metadata": {},
   "outputs": [
    {
     "data": {
      "text/html": [
       "<div>\n",
       "<style scoped>\n",
       "    .dataframe tbody tr th:only-of-type {\n",
       "        vertical-align: middle;\n",
       "    }\n",
       "\n",
       "    .dataframe tbody tr th {\n",
       "        vertical-align: top;\n",
       "    }\n",
       "\n",
       "    .dataframe thead th {\n",
       "        text-align: right;\n",
       "    }\n",
       "</style>\n",
       "<table border=\"1\" class=\"dataframe\">\n",
       "  <thead>\n",
       "    <tr style=\"text-align: right;\">\n",
       "      <th></th>\n",
       "      <th>Customer_Age</th>\n",
       "      <th>Annual_Income</th>\n",
       "      <th>Claim_History</th>\n",
       "      <th>Fraudulent_Claim</th>\n",
       "      <th>Premium_Amount</th>\n",
       "      <th>Claim_Amount</th>\n",
       "      <th>Risk_Score</th>\n",
       "      <th>Policy_Type_Auto</th>\n",
       "      <th>Policy_Type_Health</th>\n",
       "      <th>Policy_Type_Life</th>\n",
       "      <th>Policy_Type_Property</th>\n",
       "      <th>Gender_Female</th>\n",
       "      <th>Gender_Male</th>\n",
       "      <th>Gender_Other</th>\n",
       "    </tr>\n",
       "  </thead>\n",
       "  <tbody>\n",
       "    <tr>\n",
       "      <th>0</th>\n",
       "      <td>56</td>\n",
       "      <td>0.579096</td>\n",
       "      <td>5</td>\n",
       "      <td>0</td>\n",
       "      <td>0.072399</td>\n",
       "      <td>0.937780</td>\n",
       "      <td>2</td>\n",
       "      <td>0</td>\n",
       "      <td>0</td>\n",
       "      <td>1</td>\n",
       "      <td>0</td>\n",
       "      <td>1</td>\n",
       "      <td>0</td>\n",
       "      <td>0</td>\n",
       "    </tr>\n",
       "    <tr>\n",
       "      <th>1</th>\n",
       "      <td>69</td>\n",
       "      <td>0.631213</td>\n",
       "      <td>0</td>\n",
       "      <td>0</td>\n",
       "      <td>0.224772</td>\n",
       "      <td>0.603390</td>\n",
       "      <td>2</td>\n",
       "      <td>0</td>\n",
       "      <td>0</td>\n",
       "      <td>0</td>\n",
       "      <td>1</td>\n",
       "      <td>0</td>\n",
       "      <td>0</td>\n",
       "      <td>1</td>\n",
       "    </tr>\n",
       "    <tr>\n",
       "      <th>2</th>\n",
       "      <td>46</td>\n",
       "      <td>0.006765</td>\n",
       "      <td>6</td>\n",
       "      <td>0</td>\n",
       "      <td>0.730007</td>\n",
       "      <td>0.473373</td>\n",
       "      <td>2</td>\n",
       "      <td>0</td>\n",
       "      <td>0</td>\n",
       "      <td>1</td>\n",
       "      <td>0</td>\n",
       "      <td>1</td>\n",
       "      <td>0</td>\n",
       "      <td>0</td>\n",
       "    </tr>\n",
       "    <tr>\n",
       "      <th>3</th>\n",
       "      <td>32</td>\n",
       "      <td>0.662749</td>\n",
       "      <td>0</td>\n",
       "      <td>0</td>\n",
       "      <td>0.598129</td>\n",
       "      <td>0.059312</td>\n",
       "      <td>0</td>\n",
       "      <td>0</td>\n",
       "      <td>0</td>\n",
       "      <td>1</td>\n",
       "      <td>0</td>\n",
       "      <td>0</td>\n",
       "      <td>0</td>\n",
       "      <td>1</td>\n",
       "    </tr>\n",
       "    <tr>\n",
       "      <th>4</th>\n",
       "      <td>60</td>\n",
       "      <td>0.173110</td>\n",
       "      <td>4</td>\n",
       "      <td>0</td>\n",
       "      <td>0.062597</td>\n",
       "      <td>0.671788</td>\n",
       "      <td>2</td>\n",
       "      <td>1</td>\n",
       "      <td>0</td>\n",
       "      <td>0</td>\n",
       "      <td>0</td>\n",
       "      <td>0</td>\n",
       "      <td>0</td>\n",
       "      <td>1</td>\n",
       "    </tr>\n",
       "  </tbody>\n",
       "</table>\n",
       "</div>"
      ],
      "text/plain": [
       "   Customer_Age  Annual_Income  Claim_History  Fraudulent_Claim  \\\n",
       "0            56       0.579096              5                 0   \n",
       "1            69       0.631213              0                 0   \n",
       "2            46       0.006765              6                 0   \n",
       "3            32       0.662749              0                 0   \n",
       "4            60       0.173110              4                 0   \n",
       "\n",
       "   Premium_Amount  Claim_Amount  Risk_Score  Policy_Type_Auto  \\\n",
       "0        0.072399      0.937780           2                 0   \n",
       "1        0.224772      0.603390           2                 0   \n",
       "2        0.730007      0.473373           2                 0   \n",
       "3        0.598129      0.059312           0                 0   \n",
       "4        0.062597      0.671788           2                 1   \n",
       "\n",
       "   Policy_Type_Health  Policy_Type_Life  Policy_Type_Property  Gender_Female  \\\n",
       "0                   0                 1                     0              1   \n",
       "1                   0                 0                     1              0   \n",
       "2                   0                 1                     0              1   \n",
       "3                   0                 1                     0              0   \n",
       "4                   0                 0                     0              0   \n",
       "\n",
       "   Gender_Male  Gender_Other  \n",
       "0            0             0  \n",
       "1            0             1  \n",
       "2            0             0  \n",
       "3            0             1  \n",
       "4            0             1  "
      ]
     },
     "execution_count": 11,
     "metadata": {},
     "output_type": "execute_result"
    }
   ],
   "source": [
    "df.head()"
   ]
  },
  {
   "cell_type": "code",
   "execution_count": 12,
   "metadata": {},
   "outputs": [],
   "source": [
    "\n",
    "# Compute IQR\n",
    "from scipy import stats\n",
    "Q1 = df[\"Claim_Amount\"].quantile(0.25)\n",
    "Q3 = df[\"Claim_Amount\"].quantile(0.75)\n",
    "IQR = Q3 - Q1\n",
    "\n",
    "# Define outlier boundaries\n",
    "lower_bound = Q1 - 1.5 * IQR\n",
    "upper_bound = Q3 + 1.5 * IQR\n",
    "\n",
    "# Remove outliers\n",
    "df = df[(df[\"Claim_Amount\"] >= lower_bound) & (df[\"Claim_Amount\"] <= upper_bound)]\n",
    "\n",
    "# Z-score method\n",
    "df = df[np.abs(stats.zscore(df[\"Claim_Amount\"])) < 3]\n"
   ]
  },
  {
   "cell_type": "code",
   "execution_count": 13,
   "metadata": {},
   "outputs": [
    {
     "data": {
      "text/html": [
       "<div>\n",
       "<style scoped>\n",
       "    .dataframe tbody tr th:only-of-type {\n",
       "        vertical-align: middle;\n",
       "    }\n",
       "\n",
       "    .dataframe tbody tr th {\n",
       "        vertical-align: top;\n",
       "    }\n",
       "\n",
       "    .dataframe thead th {\n",
       "        text-align: right;\n",
       "    }\n",
       "</style>\n",
       "<table border=\"1\" class=\"dataframe\">\n",
       "  <thead>\n",
       "    <tr style=\"text-align: right;\">\n",
       "      <th></th>\n",
       "      <th>Customer_Age</th>\n",
       "      <th>Annual_Income</th>\n",
       "      <th>Claim_History</th>\n",
       "      <th>Fraudulent_Claim</th>\n",
       "      <th>Premium_Amount</th>\n",
       "      <th>Claim_Amount</th>\n",
       "      <th>Risk_Score</th>\n",
       "      <th>Policy_Type_Auto</th>\n",
       "      <th>Policy_Type_Health</th>\n",
       "      <th>Policy_Type_Life</th>\n",
       "      <th>Policy_Type_Property</th>\n",
       "      <th>Gender_Female</th>\n",
       "      <th>Gender_Male</th>\n",
       "      <th>Gender_Other</th>\n",
       "    </tr>\n",
       "  </thead>\n",
       "  <tbody>\n",
       "    <tr>\n",
       "      <th>0</th>\n",
       "      <td>56</td>\n",
       "      <td>0.579096</td>\n",
       "      <td>5</td>\n",
       "      <td>0</td>\n",
       "      <td>0.072399</td>\n",
       "      <td>0.937780</td>\n",
       "      <td>2</td>\n",
       "      <td>0</td>\n",
       "      <td>0</td>\n",
       "      <td>1</td>\n",
       "      <td>0</td>\n",
       "      <td>1</td>\n",
       "      <td>0</td>\n",
       "      <td>0</td>\n",
       "    </tr>\n",
       "    <tr>\n",
       "      <th>1</th>\n",
       "      <td>69</td>\n",
       "      <td>0.631213</td>\n",
       "      <td>0</td>\n",
       "      <td>0</td>\n",
       "      <td>0.224772</td>\n",
       "      <td>0.603390</td>\n",
       "      <td>2</td>\n",
       "      <td>0</td>\n",
       "      <td>0</td>\n",
       "      <td>0</td>\n",
       "      <td>1</td>\n",
       "      <td>0</td>\n",
       "      <td>0</td>\n",
       "      <td>1</td>\n",
       "    </tr>\n",
       "    <tr>\n",
       "      <th>2</th>\n",
       "      <td>46</td>\n",
       "      <td>0.006765</td>\n",
       "      <td>6</td>\n",
       "      <td>0</td>\n",
       "      <td>0.730007</td>\n",
       "      <td>0.473373</td>\n",
       "      <td>2</td>\n",
       "      <td>0</td>\n",
       "      <td>0</td>\n",
       "      <td>1</td>\n",
       "      <td>0</td>\n",
       "      <td>1</td>\n",
       "      <td>0</td>\n",
       "      <td>0</td>\n",
       "    </tr>\n",
       "    <tr>\n",
       "      <th>3</th>\n",
       "      <td>32</td>\n",
       "      <td>0.662749</td>\n",
       "      <td>0</td>\n",
       "      <td>0</td>\n",
       "      <td>0.598129</td>\n",
       "      <td>0.059312</td>\n",
       "      <td>0</td>\n",
       "      <td>0</td>\n",
       "      <td>0</td>\n",
       "      <td>1</td>\n",
       "      <td>0</td>\n",
       "      <td>0</td>\n",
       "      <td>0</td>\n",
       "      <td>1</td>\n",
       "    </tr>\n",
       "    <tr>\n",
       "      <th>4</th>\n",
       "      <td>60</td>\n",
       "      <td>0.173110</td>\n",
       "      <td>4</td>\n",
       "      <td>0</td>\n",
       "      <td>0.062597</td>\n",
       "      <td>0.671788</td>\n",
       "      <td>2</td>\n",
       "      <td>1</td>\n",
       "      <td>0</td>\n",
       "      <td>0</td>\n",
       "      <td>0</td>\n",
       "      <td>0</td>\n",
       "      <td>0</td>\n",
       "      <td>1</td>\n",
       "    </tr>\n",
       "  </tbody>\n",
       "</table>\n",
       "</div>"
      ],
      "text/plain": [
       "   Customer_Age  Annual_Income  Claim_History  Fraudulent_Claim  \\\n",
       "0            56       0.579096              5                 0   \n",
       "1            69       0.631213              0                 0   \n",
       "2            46       0.006765              6                 0   \n",
       "3            32       0.662749              0                 0   \n",
       "4            60       0.173110              4                 0   \n",
       "\n",
       "   Premium_Amount  Claim_Amount  Risk_Score  Policy_Type_Auto  \\\n",
       "0        0.072399      0.937780           2                 0   \n",
       "1        0.224772      0.603390           2                 0   \n",
       "2        0.730007      0.473373           2                 0   \n",
       "3        0.598129      0.059312           0                 0   \n",
       "4        0.062597      0.671788           2                 1   \n",
       "\n",
       "   Policy_Type_Health  Policy_Type_Life  Policy_Type_Property  Gender_Female  \\\n",
       "0                   0                 1                     0              1   \n",
       "1                   0                 0                     1              0   \n",
       "2                   0                 1                     0              1   \n",
       "3                   0                 1                     0              0   \n",
       "4                   0                 0                     0              0   \n",
       "\n",
       "   Gender_Male  Gender_Other  \n",
       "0            0             0  \n",
       "1            0             1  \n",
       "2            0             0  \n",
       "3            0             1  \n",
       "4            0             1  "
      ]
     },
     "execution_count": 13,
     "metadata": {},
     "output_type": "execute_result"
    }
   ],
   "source": [
    "df.head()"
   ]
  },
  {
   "cell_type": "code",
   "execution_count": 14,
   "metadata": {},
   "outputs": [
    {
     "name": "stdout",
     "output_type": "stream",
     "text": [
      "Class distribution before SMOTE:\n",
      "Risk_Score\n",
      "2    335\n",
      "1    139\n",
      "0     26\n",
      "Name: count, dtype: int64\n"
     ]
    }
   ],
   "source": [
    "# Check class distribution before SMOTE\n",
    "print(\"Class distribution before SMOTE:\")\n",
    "print(df[\"Risk_Score\"].value_counts())"
   ]
  },
  {
   "cell_type": "code",
   "execution_count": 15,
   "metadata": {},
   "outputs": [
    {
     "name": "stdout",
     "output_type": "stream",
     "text": [
      "\n",
      "Class distribution after SMOTE:\n",
      "Risk_Score\n",
      "2    335\n",
      "0    335\n",
      "1    335\n",
      "Name: count, dtype: int64\n"
     ]
    }
   ],
   "source": [
    "# Define Features & Target\n",
    "from imblearn.over_sampling import SMOTE\n",
    "X = df.drop(columns=[\"Risk_Score\",\"Customer_Age\",\"Fraudulent_Claim\"])  # Exclude target & ID\n",
    "y = df[\"Risk_Score\"]  # Target is now \"Risk_Score\"\n",
    "\n",
    "# Apply SMOTE\n",
    "smote = SMOTE(sampling_strategy=\"auto\", random_state=42)  # Auto balances all classes\n",
    "X_resampled, y_resampled = smote.fit_resample(X, y)\n",
    "\n",
    "# Check class distribution after SMOTE\n",
    "print(\"\\nClass distribution after SMOTE:\")\n",
    "print(pd.Series(y_resampled).value_counts())"
   ]
  },
  {
   "cell_type": "code",
   "execution_count": 16,
   "metadata": {},
   "outputs": [
    {
     "name": "stdout",
     "output_type": "stream",
     "text": [
      "Training samples: 804\n",
      "Testing samples: 201\n"
     ]
    }
   ],
   "source": [
    "X_train, X_test, y_train, y_test = train_test_split(\n",
    "    X_resampled, y_resampled, test_size=0.2, random_state=42, stratify=y_resampled\n",
    ")\n",
    "\n",
    "print(f\"Training samples: {X_train.shape[0]}\")\n",
    "print(f\"Testing samples: {X_test.shape[0]}\")\n"
   ]
  },
  {
   "cell_type": "code",
   "execution_count": 17,
   "metadata": {},
   "outputs": [
    {
     "name": "stdout",
     "output_type": "stream",
     "text": [
      "Logistic Regression Performance:\n",
      "              precision    recall  f1-score   support\n",
      "\n",
      "           0       0.94      1.00      0.97        67\n",
      "           1       0.82      0.88      0.85        67\n",
      "           2       0.93      0.81      0.86        67\n",
      "\n",
      "    accuracy                           0.90       201\n",
      "   macro avg       0.90      0.90      0.89       201\n",
      "weighted avg       0.90      0.90      0.89       201\n",
      "\n"
     ]
    }
   ],
   "source": [
    "from sklearn.linear_model import LogisticRegression\n",
    "from sklearn.metrics import classification_report\n",
    "\n",
    "# Initialize and train the model\n",
    "logreg = LogisticRegression(max_iter=1000, random_state=42)\n",
    "logreg.fit(X_train, y_train)\n",
    "\n",
    "# Predictions\n",
    "y_pred_logreg = logreg.predict(X_test)\n",
    "\n",
    "# Evaluate\n",
    "print(\"Logistic Regression Performance:\")\n",
    "print(classification_report(y_test, y_pred_logreg))\n"
   ]
  },
  {
   "cell_type": "code",
   "execution_count": 18,
   "metadata": {},
   "outputs": [
    {
     "name": "stdout",
     "output_type": "stream",
     "text": [
      "Random Forest Performance:\n",
      "              precision    recall  f1-score   support\n",
      "\n",
      "           0       1.00      1.00      1.00        67\n",
      "           1       0.93      1.00      0.96        67\n",
      "           2       1.00      0.93      0.96        67\n",
      "\n",
      "    accuracy                           0.98       201\n",
      "   macro avg       0.98      0.98      0.98       201\n",
      "weighted avg       0.98      0.98      0.98       201\n",
      "\n"
     ]
    }
   ],
   "source": [
    "from sklearn.ensemble import RandomForestClassifier\n",
    "\n",
    "# Initialize and train the model\n",
    "rf = RandomForestClassifier(n_estimators=100, random_state=42)\n",
    "rf.fit(X_train, y_train)\n",
    "\n",
    "# Predictions\n",
    "y_pred_rf = rf.predict(X_test)\n",
    "\n",
    "# Evaluate\n",
    "print(\"Random Forest Performance:\")\n",
    "print(classification_report(y_test, y_pred_rf))\n"
   ]
  },
  {
   "cell_type": "code",
   "execution_count": 19,
   "metadata": {},
   "outputs": [
    {
     "name": "stdout",
     "output_type": "stream",
     "text": [
      "Model saved successfully as random_forest_risk_model.sav\n"
     ]
    }
   ],
   "source": [
    "import pickle\n",
    "\n",
    "# Define the filename for saving the model\n",
    "model_filename = \"random_forest_risk_model.sav\"\n",
    "\n",
    "# Save the trained model\n",
    "with open(model_filename, \"wb\") as model_file:\n",
    "    pickle.dump(rf, model_file)\n",
    "\n",
    "print(f\"Model saved successfully as {model_filename}\")\n"
   ]
  },
  {
   "cell_type": "code",
   "execution_count": 20,
   "metadata": {},
   "outputs": [
    {
     "name": "stdout",
     "output_type": "stream",
     "text": [
      "Model loaded successfully!\n"
     ]
    }
   ],
   "source": [
    "# Load the model\n",
    "with open(model_filename, \"rb\") as model_file:\n",
    "    loaded_rf = pickle.load(model_file)\n",
    "\n",
    "print(\"Model loaded successfully!\")\n",
    "\n",
    "\n"
   ]
  }
 ],
 "metadata": {
  "kernelspec": {
   "display_name": "myenvv",
   "language": "python",
   "name": "python3"
  },
  "language_info": {
   "codemirror_mode": {
    "name": "ipython",
    "version": 3
   },
   "file_extension": ".py",
   "mimetype": "text/x-python",
   "name": "python",
   "nbconvert_exporter": "python",
   "pygments_lexer": "ipython3",
   "version": "3.13.3"
  }
 },
 "nbformat": 4,
 "nbformat_minor": 2
}
